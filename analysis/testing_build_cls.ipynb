{
 "cells": [
  {
   "cell_type": "code",
   "execution_count": 69,
   "id": "07f5d77d-5342-48ff-8bb6-6313c1ad3cc9",
   "metadata": {},
   "outputs": [],
   "source": [
    "import matplotlib as mpl\n",
    "import matplotlib.pyplot as plt\n",
    "import numpy as np\n",
    "\n",
    "def get_data(filenames, skiprows=23, normalization=None):\n",
    "    return np.array([\n",
    "        AngleData.get_fromfile(dataname, skiprows=skiprows, normalization=normalization) for dataname in filenames\n",
    "    ])\n",
    "\n",
    "class AngleData:\n",
    "    def __new__(self):\n",
    "        self.name = None\n",
    "    \n",
    "    @classmethod\n",
    "    def get_fromfile(cls, file = None, skiprows = 24, normalization = None):\n",
    "        angledata = AngleData()\n",
    "        data = np.loadtxt(file, skiprows=skiprows)\n",
    "        angledata.value = np.abs(data.mean())\n",
    "        angledata.std = data.std()\n",
    "        filename_split = file.split('/')[-1].split('.')\n",
    "        angledata.angle = np.float64(filename_split[2])*np.pi/180.0 + np.float64(filename_split[3])*np.pi/180.0/100\n",
    "        angledata.polarization = 's' if int(filename_split[-2]) == 1 else 'p'\n",
    "        angledata.inverted = True if 'inv' in filename_split else False\n",
    "        angledata.normalized: bool = False if normalization is None else True\n",
    "        \n",
    "        return angledata\n",
    "\n",
    "class SingleRun:\n",
    "    def __new__(self):\n",
    "        self.IDs: np.ndarray = None\n",
    "        self.reflectance: np.ndarray = None\n",
    "        self.reflectance_std: np.ndarray = None\n",
    "        self.angles: np.ndarray\n",
    "        self.polarization: str = 'both'\n",
    "    \n",
    "    @classmethod\n",
    "    def get_fromadl(cls,data: np.ndarray, normalization: AngleData, polarization: str = None):\n",
    "        \n",
    "        norm = normalization\n",
    "        \n",
    "        singlerun = SingleRun\n",
    "        \n",
    "        if polarization is None:\n",
    "            singlerun.polarization = data[0].polarization\n",
    "        else:\n",
    "            singlerun.polarization = polarization\n",
    "        \n",
    "        singlerun.angles = np.array([\n",
    "            di.angle for di in data\n",
    "        ])\n",
    "        \n",
    "        singlerun.reflectance = np.array([\n",
    "            di.value/norm.value for di in data\n",
    "        ])\n",
    "        \n",
    "        singlerun.reflectance_std = np.array([\n",
    "            np.sqrt( (di.std/norm.value)**2  + (di.value * norm.std / norm.value**2)**2 ) for di in data\n",
    "        ])\n",
    "        \n",
    "        singlerun.IDs = np.array([\n",
    "            di.inverted for di in data\n",
    "        ])\n",
    "        \n",
    "        return singlerun\n",
    "    \n",
    "    @classmethod\n",
    "    def plot(self, plot_asone=False, color='k', markersize=5):\n",
    "        \n",
    "        if plot_asone:\n",
    "            plt.errorbar(self.angles, self.reflectance, yerr=self.reflectance_std, \n",
    "                         color=color, ecolor=color, fmt='o', mfc='w', markersize=markersize, label=f'Data ({self.polarization}-plane)')\n",
    "        else:\n",
    "            angles = self.angles[self.IDs == False]\n",
    "            reflectance = self.reflectance[self.IDs == False]\n",
    "            reflectance_std = self.reflectance_std[self.IDs == False]\n",
    "            \n",
    "            angles_inv = self.angles[self.IDs == True]\n",
    "            reflectance_inv = self.reflectance[self.IDs == True]\n",
    "            reflectance_std_inv = self.reflectance_std[self.IDs == True]\n",
    "            \n",
    "            plt.errorbar(angles, reflectance, yerr=reflectance_std, \n",
    "                         color=color, ecolor=color, fmt='o', mfc='w', markersize=markersize, label=f'Data ({self.polarization}-plane, non inverted)')\n",
    "            \n",
    "            plt.errorbar(angles_inv, reflectance_inv, yerr=reflectance_std_inv, \n",
    "                         color=color, ecolor=color, fmt='^', mfc='w', markersize=markersize, label=f'Data ({self.polarization}-plane, inverted)')\n",
    "            \n",
    "            plt.xlabel('Normal incidence angle/rad')\n",
    "            plt.ylabel('Reflectance/%')\n",
    "    "
   ]
  },
  {
   "cell_type": "code",
   "execution_count": 65,
   "id": "8a390992-deb9-464c-a259-0d0437c5ec3d",
   "metadata": {},
   "outputs": [],
   "source": [
    "import glob\n",
    "files = glob.glob('../data/test1/**.lvm')\n",
    "files = sorted(files)\n"
   ]
  },
  {
   "cell_type": "code",
   "execution_count": 66,
   "id": "248e5f87-d5fc-4aaa-85f6-a4b40e7c54d0",
   "metadata": {},
   "outputs": [],
   "source": [
    "\n",
    "data = np.array([AngleData.get_fromfile(file, 23) for file in files])"
   ]
  },
  {
   "cell_type": "code",
   "execution_count": 67,
   "id": "c7db4d97-1b4b-4f71-8848-8936207ccfed",
   "metadata": {},
   "outputs": [],
   "source": [
    "s1 = SingleRun.get_fromadl(data, data[0])"
   ]
  },
  {
   "cell_type": "code",
   "execution_count": 62,
   "id": "67e4b5ff-3114-4fd5-b227-80725f9cf183",
   "metadata": {},
   "outputs": [
    {
     "data": {
      "image/png": "[encoded data removed]",
      "text/plain": [
       "<Figure size 432x288 with 1 Axes>"
      ]
     },
     "metadata": {
      "image/png": {
       "height": 261,
       "width": 385
      },
      "needs_background": "light"
     },
     "output_type": "display_data"
    }
   ],
   "source": [
    "s1.plot()"
   ]
  },
  {
   "cell_type": "code",
   "execution_count": null,
   "id": "35ad9822-6287-4cff-98ef-2066ea826bf1",
   "metadata": {},
   "outputs": [],
   "source": []
  },
  {
   "cell_type": "code",
   "execution_count": null,
   "id": "44c2e1db-fcb2-4407-80e2-c3e9ee6996f6",
   "metadata": {},
   "outputs": [],
   "source": []
  }
 ],
 "metadata": {
  "kernelspec": {
   "display_name": "Python 3",
   "language": "python",
   "name": "python3"
  },
  "language_info": {
   "codemirror_mode": {
    "name": "ipython",
    "version": 3
   },
   "file_extension": ".py",
   "mimetype": "text/x-python",
   "name": "python",
   "nbconvert_exporter": "python",
   "pygments_lexer": "ipython3",
   "version": "3.9.12"
  }
 },
 "nbformat": 4,
 "nbformat_minor": 5
}
